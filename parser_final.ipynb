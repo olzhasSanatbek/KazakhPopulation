{
 "cells": [
  {
   "cell_type": "code",
   "execution_count": 1,
   "id": "67e88a70",
   "metadata": {},
   "outputs": [],
   "source": [
    "from bs4 import BeautifulSoup as bs\n",
    "import requests\n",
    "import pandas as pd\n",
    "import re"
   ]
  },
  {
   "cell_type": "code",
   "execution_count": 2,
   "id": "ac4168c1",
   "metadata": {},
   "outputs": [],
   "source": [
    "url = \"https://countrymeters.info/ru/Kazakhstan\"\n",
    "page = requests.get(url)\n",
    "soup = bs(page.text, 'html.parser')"
   ]
  },
  {
   "cell_type": "code",
   "execution_count": 3,
   "id": "86e09125",
   "metadata": {},
   "outputs": [],
   "source": [
    "headerFinal = {\n",
    "    'Год': 'Год',\n",
    "    'Население': 'Население',\n",
    "    'Прирост населения': 'Прирост населения'\n",
    "}"
   ]
  },
  {
   "cell_type": "code",
   "execution_count": 4,
   "id": "c0a8a151",
   "metadata": {},
   "outputs": [],
   "source": [
    "table_data = soup.find('table', class_=re.compile(r\"years\"))"
   ]
  },
  {
   "cell_type": "code",
   "execution_count": 6,
   "id": "9fda4b29",
   "metadata": {},
   "outputs": [],
   "source": [
    "headerParsed = table_data.find(name='tr').findAll(name='th')\n",
    "headers = [header.text for header in headerParsed]\n",
    "bodyParsed = table_data.find(name='tr').findAll(name='td')"
   ]
  },
  {
   "cell_type": "code",
   "execution_count": 7,
   "id": "dc7d1ae6",
   "metadata": {},
   "outputs": [],
   "source": [
    "df = pd.DataFrame(columns = headers)"
   ]
  },
  {
   "cell_type": "code",
   "execution_count": 8,
   "id": "d0c5ed08",
   "metadata": {},
   "outputs": [],
   "source": [
    "df = df.rename(mapper=headerFinal,axis='columns')"
   ]
  },
  {
   "cell_type": "code",
   "execution_count": 10,
   "id": "9d83d559",
   "metadata": {},
   "outputs": [],
   "source": [
    "for each in bodyParsed:\n",
    "    row_data = each.find_all('td')\n",
    "    row = [tr.text for tr in row_data]\n",
    "    length = len(df)"
   ]
  },
  {
   "cell_type": "code",
   "execution_count": 13,
   "id": "b5eec829",
   "metadata": {},
   "outputs": [
    {
     "data": {
      "text/html": [
       "<div>\n",
       "<style scoped>\n",
       "    .dataframe tbody tr th:only-of-type {\n",
       "        vertical-align: middle;\n",
       "    }\n",
       "\n",
       "    .dataframe tbody tr th {\n",
       "        vertical-align: top;\n",
       "    }\n",
       "\n",
       "    .dataframe thead th {\n",
       "        text-align: right;\n",
       "    }\n",
       "</style>\n",
       "<table border=\"1\" class=\"dataframe\">\n",
       "  <thead>\n",
       "    <tr style=\"text-align: right;\">\n",
       "      <th></th>\n",
       "      <th>Год</th>\n",
       "      <th>Население</th>\n",
       "      <th>Прирост населения</th>\n",
       "    </tr>\n",
       "  </thead>\n",
       "  <tbody>\n",
       "    <tr>\n",
       "      <th>0</th>\n",
       "      <td>1951</td>\n",
       "      <td>6,757,728</td>\n",
       "      <td>N/A %</td>\n",
       "    </tr>\n",
       "    <tr>\n",
       "      <th>1</th>\n",
       "      <td>1952</td>\n",
       "      <td>6,909,635</td>\n",
       "      <td>2.25 %</td>\n",
       "    </tr>\n",
       "    <tr>\n",
       "      <th>2</th>\n",
       "      <td>1953</td>\n",
       "      <td>7,138,926</td>\n",
       "      <td>3.32 %</td>\n",
       "    </tr>\n",
       "    <tr>\n",
       "      <th>3</th>\n",
       "      <td>1954</td>\n",
       "      <td>7,426,963</td>\n",
       "      <td>4.03 %</td>\n",
       "    </tr>\n",
       "    <tr>\n",
       "      <th>4</th>\n",
       "      <td>1955</td>\n",
       "      <td>7,758,847</td>\n",
       "      <td>4.47 %</td>\n",
       "    </tr>\n",
       "  </tbody>\n",
       "</table>\n",
       "</div>"
      ],
      "text/plain": [
       "    Год  Население Прирост населения\n",
       "0  1951  6,757,728             N/A %\n",
       "1  1952  6,909,635            2.25 %\n",
       "2  1953  7,138,926            3.32 %\n",
       "3  1954  7,426,963            4.03 %\n",
       "4  1955  7,758,847            4.47 %"
      ]
     },
     "execution_count": 13,
     "metadata": {},
     "output_type": "execute_result"
    }
   ],
   "source": [
    "df.head()"
   ]
  },
  {
   "cell_type": "code",
   "execution_count": 16,
   "id": "a60c857d",
   "metadata": {},
   "outputs": [],
   "source": [
    "df.to_csv('populkz.csv')"
   ]
  },
  {
   "cell_type": "code",
   "execution_count": null,
   "id": "880809f9",
   "metadata": {},
   "outputs": [],
   "source": []
  }
 ],
 "metadata": {
  "kernelspec": {
   "display_name": "Python 3 (ipykernel)",
   "language": "python",
   "name": "python3"
  },
  "language_info": {
   "codemirror_mode": {
    "name": "ipython",
    "version": 3
   },
   "file_extension": ".py",
   "mimetype": "text/x-python",
   "name": "python",
   "nbconvert_exporter": "python",
   "pygments_lexer": "ipython3",
   "version": "3.9.5"
  }
 },
 "nbformat": 4,
 "nbformat_minor": 5
}
